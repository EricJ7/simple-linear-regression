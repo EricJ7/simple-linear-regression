{
 "cells": [
  {
   "cell_type": "code",
   "execution_count": 111,
   "id": "99d696b9",
   "metadata": {},
   "outputs": [],
   "source": [
    "import numpy as np\n",
    "\n",
    "class linearRegression:\n",
    "    def __init__(self, iterations, learningRate):\n",
    "        self.iterations = iterations\n",
    "        self.learningRate = learningRate\n",
    "    \n",
    "        \n",
    "    def fit(self, X, Y):\n",
    "        self.X = X\n",
    "        self.Y = Y\n",
    "        \n",
    "        self.weight = 0\n",
    "        self.bias = 0\n",
    "        \n",
    "        for i in range(self.iterations):\n",
    "            self.updateWeights()\n",
    "        \n",
    "        return\n",
    "            \n",
    "    # compute gradient for bias\n",
    "    def biasGradient(self):\n",
    "        N = len(self.X)\n",
    "        diff = 0\n",
    "            \n",
    "        for i in range(N):\n",
    "            x = self.X[i]\n",
    "            y = self.Y[i]\n",
    "            diff += (y - ((self.weight * x) + self.bias))\n",
    "                \n",
    "        biasGradient = -(2/N) * diff\n",
    "        \n",
    "        return biasGradient\n",
    "\n",
    "    \n",
    "    def weightGradient(self):\n",
    "        N = len(self.X)\n",
    "        diff = 0\n",
    "        \n",
    "        for i in range(N):\n",
    "            x = self.X[i]\n",
    "            y = self.Y[i]\n",
    "            diff += x * ((y - ((self.weight * x) + self.bias)))\n",
    "        \n",
    "        weightGradient = -(2/N) * diff\n",
    "        \n",
    "        return weightGradient\n",
    "        \n",
    "    # updating weight and bias value based on gradients\n",
    "    def updateWeights(self):\n",
    "        \n",
    "        weightGradient = self.weightGradient()\n",
    "        biasGradient = self.biasGradient()\n",
    "        \n",
    "        # update weight and bias value\n",
    "        self.weight = self.weight - (self.learningRate * weightGradient)\n",
    "        self.bias = self.bias - (self.learningRate * biasGradient)\n",
    "        \n",
    "        \n",
    "    # single variable prediction    \n",
    "    def predict(self, x):\n",
    "        \n",
    "        return self.weight * x + self.bias\n",
    "    \n",
    "    "
   ]
  },
  {
   "cell_type": "code",
   "execution_count": 112,
   "id": "ad1d4584",
   "metadata": {},
   "outputs": [],
   "source": [
    "import pandas as pd\n",
    "import matplotlib.pyplot as plt"
   ]
  },
  {
   "cell_type": "code",
   "execution_count": 113,
   "id": "768329b6",
   "metadata": {},
   "outputs": [
    {
     "data": {
      "text/html": [
       "<div>\n",
       "<style scoped>\n",
       "    .dataframe tbody tr th:only-of-type {\n",
       "        vertical-align: middle;\n",
       "    }\n",
       "\n",
       "    .dataframe tbody tr th {\n",
       "        vertical-align: top;\n",
       "    }\n",
       "\n",
       "    .dataframe thead th {\n",
       "        text-align: right;\n",
       "    }\n",
       "</style>\n",
       "<table border=\"1\" class=\"dataframe\">\n",
       "  <thead>\n",
       "    <tr style=\"text-align: right;\">\n",
       "      <th></th>\n",
       "      <th>X</th>\n",
       "      <th>Y</th>\n",
       "    </tr>\n",
       "  </thead>\n",
       "  <tbody>\n",
       "    <tr>\n",
       "      <th>0</th>\n",
       "      <td>1</td>\n",
       "      <td>3.888889</td>\n",
       "    </tr>\n",
       "    <tr>\n",
       "      <th>1</th>\n",
       "      <td>2</td>\n",
       "      <td>4.555556</td>\n",
       "    </tr>\n",
       "    <tr>\n",
       "      <th>2</th>\n",
       "      <td>3</td>\n",
       "      <td>5.222222</td>\n",
       "    </tr>\n",
       "    <tr>\n",
       "      <th>3</th>\n",
       "      <td>4</td>\n",
       "      <td>5.888889</td>\n",
       "    </tr>\n",
       "    <tr>\n",
       "      <th>4</th>\n",
       "      <td>5</td>\n",
       "      <td>6.555556</td>\n",
       "    </tr>\n",
       "  </tbody>\n",
       "</table>\n",
       "</div>"
      ],
      "text/plain": [
       "   X         Y\n",
       "0  1  3.888889\n",
       "1  2  4.555556\n",
       "2  3  5.222222\n",
       "3  4  5.888889\n",
       "4  5  6.555556"
      ]
     },
     "execution_count": 113,
     "metadata": {},
     "output_type": "execute_result"
    }
   ],
   "source": [
    "data = pd.read_csv('data2.csv')\n",
    "data.head()"
   ]
  },
  {
   "cell_type": "code",
   "execution_count": 114,
   "id": "2f42338c",
   "metadata": {},
   "outputs": [],
   "source": [
    "X = data['X'].values\n",
    "Y = data['Y'].values"
   ]
  },
  {
   "cell_type": "code",
   "execution_count": 115,
   "id": "a6e29f8b",
   "metadata": {},
   "outputs": [
    {
     "name": "stdout",
     "output_type": "stream",
     "text": [
      "[  1   2   3   4   5   6   7   8   9  10  11  12  13  14  15  16  17  18\n",
      "  19  20  21  22  23  24  25  26  27  28  29  30  31  32  33  34  35  36\n",
      "  37  38  39  40  41  42  43  44  45  46  47  48  49  50  51  52  53  54\n",
      "  55  56  57  58  59  60  61  62  63  64  65  66  67  68  69  70  71  72\n",
      "  73  74  75  76  77  78  79  80  81  82  83  84  85  86  87  88  89  90\n",
      "  91  92  93  94  95  96  97  98  99 100 101 102 103 104 105 106 107 108\n",
      " 109 110 111 112 113 114 115 116 117 118 119 120 121 122 123 124 125 126\n",
      " 127 128 129 130 131 132 133 134 135 136 137 138 139 140 141 142 143 144\n",
      " 145 146 147 148 149 150 151 152 153 154 155 156 157 158 159 160 161 162\n",
      " 163 164 165 166 167 168 169 170 171 172 173 174 175 176 177 178 179 180\n",
      " 181 182 183 184 185 186 187 188 189 190 191 192 193 194 195 196 197 198\n",
      " 199 200 201 202 203 204 205 206 207 208 209 210 211 212 213 214 215 216\n",
      " 217 218 219 220 221 222 223 224 225 226 227 228 229 230 231 232 233 234\n",
      " 235 236 237 238 239 240 241 242 243 244 245 246 247 248 249 250 251 252\n",
      " 253 254 255 256 257 258 259 260 261 262 263 264 265 266 267 268 269 270\n",
      " 271 272 273 274 275 276 277 278 279 280 281 282 283 284 285 286 287 288\n",
      " 289 290 291 292 293 294 295 296 297 298 299 300] [  3.88888889   4.55555556   5.22222222   5.88888889   6.55555556\n",
      "   7.22222222   7.88888889   8.55555556   9.22222222   9.88888889\n",
      "  10.55555556  11.22222222  11.88888889  12.55555556  13.22222222\n",
      "  13.88888889  14.55555556  15.22222222  15.88888889  16.55555556\n",
      "  17.22222222  17.88888889  18.55555556  19.22222222  19.88888889\n",
      "  20.55555556  21.22222222  21.88888889  22.55555556  23.22222222\n",
      "  23.88888889  24.55555556  25.22222222  25.88888889  26.55555556\n",
      "  27.22222222  27.88888889  28.55555556  29.22222222  29.88888889\n",
      "  30.55555556  31.22222222  31.88888889  32.55555556  33.22222222\n",
      "  33.88888889  34.55555556  35.22222222  35.88888889  36.55555556\n",
      "  37.22222222  37.88888889  38.55555556  39.22222222  39.88888889\n",
      "  40.55555556  41.22222222  41.88888889  42.55555556  43.22222222\n",
      "  43.88888889  44.55555556  45.22222222  45.88888889  46.55555556\n",
      "  47.22222222  47.88888889  48.55555556  49.22222222  49.88888889\n",
      "  50.55555556  51.22222222  51.88888889  52.55555556  53.22222222\n",
      "  53.88888889  54.55555556  55.22222222  55.88888889  56.55555556\n",
      "  57.22222222  57.88888889  58.55555556  59.22222222  59.88888889\n",
      "  60.55555556  61.22222222  61.88888889  62.55555556  63.22222222\n",
      "  63.88888889  64.55555556  65.22222222  65.88888889  66.55555556\n",
      "  67.22222222  67.88888889  68.55555556  69.22222222  69.88888889\n",
      "  70.55555556  71.22222222  71.88888889  72.55555556  73.22222222\n",
      "  73.88888889  74.55555556  75.22222222  75.88888889  76.55555556\n",
      "  77.22222222  77.88888889  78.55555556  79.22222222  79.88888889\n",
      "  80.55555556  81.22222222  81.88888889  82.55555556  83.22222222\n",
      "  83.88888889  84.55555556  85.22222222  85.88888889  86.55555556\n",
      "  87.22222222  87.88888889  88.55555556  89.22222222  89.88888889\n",
      "  90.55555556  91.22222222  91.88888889  92.55555556  93.22222222\n",
      "  93.88888889  94.55555556  95.22222222  95.88888889  96.55555556\n",
      "  97.22222222  97.88888889  98.55555556  99.22222222  99.88888889\n",
      " 100.5555556  101.2222222  101.8888889  102.5555556  103.2222222\n",
      " 103.8888889  104.5555556  105.2222222  105.8888889  106.5555556\n",
      " 107.2222222  107.8888889  108.5555556  109.2222222  109.8888889\n",
      " 110.5555556  111.2222222  111.8888889  112.5555556  113.2222222\n",
      " 113.8888889  114.5555556  115.2222222  115.8888889  116.5555556\n",
      " 117.2222222  117.8888889  118.5555556  119.2222222  119.8888889\n",
      " 120.5555556  121.2222222  121.8888889  122.5555556  123.2222222\n",
      " 123.8888889  124.5555556  125.2222222  125.8888889  126.5555556\n",
      " 127.2222222  127.8888889  128.5555556  129.2222222  129.8888889\n",
      " 130.5555556  131.2222222  131.8888889  132.5555556  133.2222222\n",
      " 133.8888889  134.5555556  135.2222222  135.8888889  136.5555556\n",
      " 137.2222222  137.8888889  138.5555556  139.2222222  139.8888889\n",
      " 140.5555556  141.2222222  141.8888889  142.5555556  143.2222222\n",
      " 143.8888889  144.5555556  145.2222222  145.8888889  146.5555556\n",
      " 147.2222222  147.8888889  148.5555556  149.2222222  149.8888889\n",
      " 150.5555556  151.2222222  151.8888889  152.5555556  153.2222222\n",
      " 153.8888889  154.5555556  155.2222222  155.8888889  156.5555556\n",
      " 157.2222222  157.8888889  158.5555556  159.2222222  159.8888889\n",
      " 160.5555556  161.2222222  161.8888889  162.5555556  163.2222222\n",
      " 163.8888889  164.5555556  165.2222222  165.8888889  166.5555556\n",
      " 167.2222222  167.8888889  168.5555556  169.2222222  169.8888889\n",
      " 170.5555556  171.2222222  171.8888889  172.5555556  173.2222222\n",
      " 173.8888889  174.5555556  175.2222222  175.8888889  176.5555556\n",
      " 177.2222222  177.8888889  178.5555556  179.2222222  179.8888889\n",
      " 180.5555556  181.2222222  181.8888889  182.5555556  183.2222222\n",
      " 183.8888889  184.5555556  185.2222222  185.8888889  186.5555556\n",
      " 187.2222222  187.8888889  188.5555556  189.2222222  189.8888889\n",
      " 190.5555556  191.2222222  191.8888889  192.5555556  193.2222222\n",
      " 193.8888889  194.5555556  195.2222222  195.8888889  196.5555556\n",
      " 197.2222222  197.8888889  198.5555556  199.2222222  199.8888889\n",
      " 200.5555556  201.2222222  201.8888889    1.88888889   1.88888889]\n"
     ]
    }
   ],
   "source": [
    "print(X, Y)"
   ]
  },
  {
   "cell_type": "code",
   "execution_count": 116,
   "id": "62faa376",
   "metadata": {},
   "outputs": [],
   "source": [
    "model = linearRegression(iterations=1000, learningRate=0.000001)\n",
    "model.fit(X, Y)"
   ]
  },
  {
   "cell_type": "code",
   "execution_count": 117,
   "id": "3aecb12f",
   "metadata": {},
   "outputs": [
    {
     "name": "stdout",
     "output_type": "stream",
     "text": [
      "0.6694088466032247\n"
     ]
    }
   ],
   "source": [
    "print(model.weight)"
   ]
  },
  {
   "cell_type": "code",
   "execution_count": 118,
   "id": "3cd26018",
   "metadata": {},
   "outputs": [
    {
     "name": "stdout",
     "output_type": "stream",
     "text": [
      "0.006268815087109573\n"
     ]
    }
   ],
   "source": [
    "print(model.bias)"
   ]
  },
  {
   "cell_type": "code",
   "execution_count": 119,
   "id": "a7228ebf",
   "metadata": {},
   "outputs": [
    {
     "data": {
      "text/plain": [
       "[<matplotlib.lines.Line2D at 0x7efbe8138d30>]"
      ]
     },
     "execution_count": 119,
     "metadata": {},
     "output_type": "execute_result"
    },
    {
     "data": {
      "image/png": "[encoded data removed]",
      "text/plain": [
       "<Figure size 432x288 with 1 Axes>"
      ]
     },
     "metadata": {
      "needs_background": "light"
     },
     "output_type": "display_data"
    }
   ],
   "source": [
    "plt.scatter(X,Y, color = 'red')\n",
    "#plt.plot(list(range(1, 300)), [model.weight * x + model.bias for x in range(1, 300)], color=\"black\")\n",
    "plt.plot(list(range(1, 300)), [model.weight * x + model.bias for x in range(1, 300)], color=\"black\")"
   ]
  },
  {
   "cell_type": "code",
   "execution_count": null,
   "id": "68374fa8",
   "metadata": {},
   "outputs": [],
   "source": [
    "def get_gradient_at_b(x, y, b, m):\n",
    "    N = len(x)\n",
    "    diff = 0\n",
    "    for i in range(N):\n",
    "        x_val = x[i]\n",
    "        y_val = y[i]\n",
    "        diff += (y_val - ((m * x_val) + b))\n",
    "    b_gradient = -(2/N) * diff  \n",
    "    return b_gradient\n",
    "\n",
    "def get_gradient_at_m(x, y, b, m):\n",
    "    N = len(x)\n",
    "    diff = 0\n",
    "    for i in range(N):\n",
    "        x_val = x[i]\n",
    "        y_val = y[i]\n",
    "        diff += x_val * (y_val - ((m * x_val) + b))\n",
    "    m_gradient = -(2/N) * diff  \n",
    "    return m_gradient\n",
    "\n",
    "def step_gradient(b_current, m_current, x, y, learning_rate):\n",
    "    b_gradient = get_gradient_at_b(x, y, b_current, m_current)\n",
    "    m_gradient = get_gradient_at_m(x, y, b_current, m_current)\n",
    "    b = b_current - (learning_rate * b_gradient)\n",
    "    m = m_current - (learning_rate * m_gradient)\n",
    "    return [b, m]\n",
    "\n",
    "def gradient_descent(x, y, learning_rate, num_iterations):\n",
    "    b = 0\n",
    "    m = 0\n",
    "    for i in range(num_iterations):\n",
    "        b, m = step_gradient(b, m, x, y, learning_rate)\n",
    "    return [b,m]\n",
    "\n",
    "print(gradient_descent(X, Y, 0.00000005, 1000))"
   ]
  }
 ],
 "metadata": {
  "kernelspec": {
   "display_name": "Python 3 (ipykernel)",
   "language": "python",
   "name": "python3"
  },
  "language_info": {
   "codemirror_mode": {
    "name": "ipython",
    "version": 3
   },
   "file_extension": ".py",
   "mimetype": "text/x-python",
   "name": "python",
   "nbconvert_exporter": "python",
   "pygments_lexer": "ipython3",
   "version": "3.10.4"
  }
 },
 "nbformat": 4,
 "nbformat_minor": 5
}
